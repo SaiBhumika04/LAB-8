{
 "cells": [
  {
   "cell_type": "code",
   "execution_count": 1,
   "id": "896b78bb",
   "metadata": {},
   "outputs": [],
   "source": [
    "import numpy as np\n",
    "import pandas as pd"
   ]
  },
  {
   "cell_type": "code",
   "execution_count": 5,
   "id": "cd0b1eb5",
   "metadata": {},
   "outputs": [
    {
     "name": "stdout",
     "output_type": "stream",
     "text": [
      "      age  income student credit_rating buys_computer\n",
      "0    <=30    high      no          fair            no\n",
      "1    <=30    high      no     excellent            no\n",
      "2   31…40    high      no          fair           yes\n",
      "3     >40  medium      no          fair           yes\n",
      "4     >40     low     yes          fair           yes\n",
      "5     >40     low     yes     excellent            no\n",
      "6   31…40     low     yes     excellent           yes\n",
      "7    <=30  medium      no          fair            no\n",
      "8    <=30     low     yes          fair           yes\n",
      "9     >40  medium     yes          fair           yes\n",
      "10   <=30  medium     yes     excellent           yes\n",
      "11  31…40  medium      no     excellent           yes\n",
      "12  31…40    high     yes          fair           yes\n",
      "13    >40  medium      no     excellent            no\n"
     ]
    }
   ],
   "source": [
    "# dataset\n",
    "data = pd.read_excel('entropy_4.xlsx')\n",
    "df = pd.DataFrame(data)\n",
    "df = df.dropna(axis = 1)\n",
    "print(df)"
   ]
  },
  {
   "cell_type": "code",
   "execution_count": 7,
   "id": "f841c360",
   "metadata": {},
   "outputs": [
    {
     "name": "stdout",
     "output_type": "stream",
     "text": [
      "Prior probability of age = '<=30': 0.35714285714285715\n",
      "Prior probability of age = '31…40': 0.2857142857142857\n",
      "Prior probability of age = '>40': 0.35714285714285715\n",
      "Prior probability of income = 'high': 0.2857142857142857\n",
      "Prior probability of income = 'medium': 0.42857142857142855\n",
      "Prior probability of income = 'low': 0.2857142857142857\n",
      "Prior probability of student = 'no': 0.5\n",
      "Prior probability of student = 'yes': 0.5\n",
      "Prior probability of credit_rating = 'fair': 0.5714285714285714\n",
      "Prior probability of credit_rating = 'excellent': 0.42857142857142855\n",
      "Prior probability of buys_computer = 'no': 0.35714285714285715\n",
      "Prior probability of buys_computer = 'yes': 0.6428571428571429\n"
     ]
    }
   ],
   "source": [
    "# Get the names of categorical columns\n",
    "categorical_columns = df.select_dtypes(include=['object']).columns\n",
    "\n",
    "# Calculate prior probabilities for each class in each categorical column\n",
    "prior_probabilities = {}\n",
    "\n",
    "total_instances = len(df)\n",
    "\n",
    "for col in categorical_columns:\n",
    "    unique_classes = df[col].unique()\n",
    "    \n",
    "    for class_label in unique_classes:\n",
    "        count_class = len(df[df[col] == class_label])\n",
    "        prior_prob = count_class / total_instances\n",
    "        prior_probabilities[f\"{col}_{class_label}\"] = prior_prob\n",
    "        print(f\"Prior probability of {col} = '{class_label}': {prior_prob}\")"
   ]
  },
  {
   "cell_type": "code",
   "execution_count": 8,
   "id": "3a6964aa",
   "metadata": {},
   "outputs": [
    {
     "name": "stdout",
     "output_type": "stream",
     "text": [
      "Class Conditional Density for age_no:\n",
      "<=30    0.6\n",
      ">40     0.4\n",
      "Name: age, dtype: float64\n",
      "\n",
      "Class Conditional Density for age_yes:\n",
      "31…40    0.444444\n",
      ">40      0.333333\n",
      "<=30     0.222222\n",
      "Name: age, dtype: float64\n",
      "\n",
      "Class Conditional Density for income_no:\n",
      "high      0.4\n",
      "medium    0.4\n",
      "low       0.2\n",
      "Name: income, dtype: float64\n",
      "\n",
      "Class Conditional Density for income_yes:\n",
      "medium    0.444444\n",
      "low       0.333333\n",
      "high      0.222222\n",
      "Name: income, dtype: float64\n",
      "\n",
      "Class Conditional Density for student_no:\n",
      "no     0.8\n",
      "yes    0.2\n",
      "Name: student, dtype: float64\n",
      "\n",
      "Class Conditional Density for student_yes:\n",
      "yes    0.666667\n",
      "no     0.333333\n",
      "Name: student, dtype: float64\n",
      "\n",
      "Class Conditional Density for credit_rating_no:\n",
      "excellent    0.6\n",
      "fair         0.4\n",
      "Name: credit_rating, dtype: float64\n",
      "\n",
      "Class Conditional Density for credit_rating_yes:\n",
      "fair         0.666667\n",
      "excellent    0.333333\n",
      "Name: credit_rating, dtype: float64\n",
      "\n",
      "Class Conditional Density for buys_computer_no:\n",
      "no    1.0\n",
      "Name: buys_computer, dtype: float64\n",
      "\n",
      "Class Conditional Density for buys_computer_yes:\n",
      "yes    1.0\n",
      "Name: buys_computer, dtype: float64\n",
      "\n"
     ]
    }
   ],
   "source": [
    "# Get the names of categorical columns\n",
    "categorical_columns = df.select_dtypes(include=['object']).columns\n",
    "\n",
    "# Calculate class conditional densities for each class in each categorical column\n",
    "class_conditional_densities = {}\n",
    "\n",
    "for col in categorical_columns:\n",
    "    unique_classes = df['buys_computer'].unique()\n",
    "    \n",
    "    for class_label in unique_classes:\n",
    "        class_df = df[df['buys_computer'] == class_label]\n",
    "        feature_counts = class_df[col].value_counts()\n",
    "        class_conditional_densities[f\"{col}_{class_label}\"] = feature_counts / len(class_df)\n",
    "\n",
    "# Print the results\n",
    "for key, value in class_conditional_densities.items():\n",
    "    print(f\"Class Conditional Density for {key}:\\n{value}\\n\")"
   ]
  },
  {
   "cell_type": "code",
   "execution_count": 12,
   "id": "0152f54b",
   "metadata": {},
   "outputs": [
    {
     "name": "stdout",
     "output_type": "stream",
     "text": [
      "Accuracy: 0.6666666666666666\n"
     ]
    }
   ],
   "source": [
    "import pandas as pd\n",
    "from sklearn.model_selection import train_test_split\n",
    "from sklearn.naive_bayes import GaussianNB\n",
    "from sklearn.preprocessing import LabelEncoder\n",
    "from sklearn.metrics import accuracy_score\n",
    "\n",
    "# Encode categorical variables\n",
    "le = LabelEncoder()\n",
    "df_encoded = df.copy()\n",
    "for col in df.columns:\n",
    "    if df[col].dtype == 'object':\n",
    "        df_encoded[col] = le.fit_transform(df[col])\n",
    "\n",
    "# Split the data into features (X) and target variable (y)\n",
    "X = df_encoded.drop('buys_computer', axis=1)\n",
    "y = df_encoded['buys_computer']\n",
    "\n",
    "# Split the data into training and testing sets\n",
    "X_train, X_test, y_train, y_test = train_test_split(X, y, test_size=0.2, random_state=42)\n",
    "\n",
    "# Build the Naive Bayes classifier\n",
    "nb_classifier = GaussianNB()\n",
    "\n",
    "# Train the classifier\n",
    "nb_classifier.fit(X_train, y_train)\n",
    "\n",
    "# Make predictions on the test set\n",
    "y_pred = nb_classifier.predict(X_test)\n",
    "\n",
    "# Evaluate the classifier\n",
    "accuracy = accuracy_score(y_test, y_pred)\n",
    "print(f\"Accuracy: {accuracy}\")"
   ]
  },
  {
   "cell_type": "code",
   "execution_count": null,
   "id": "815b8006",
   "metadata": {},
   "outputs": [],
   "source": []
  }
 ],
 "metadata": {
  "kernelspec": {
   "display_name": "Python 3 (ipykernel)",
   "language": "python",
   "name": "python3"
  },
  "language_info": {
   "codemirror_mode": {
    "name": "ipython",
    "version": 3
   },
   "file_extension": ".py",
   "mimetype": "text/x-python",
   "name": "python",
   "nbconvert_exporter": "python",
   "pygments_lexer": "ipython3",
   "version": "3.9.13"
  }
 },
 "nbformat": 4,
 "nbformat_minor": 5
}
